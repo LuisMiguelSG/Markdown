{
  "nbformat": 4,
  "nbformat_minor": 0,
  "metadata": {
    "colab": {
      "provenance": [],
      "authorship_tag": "ABX9TyME96fw+Q4DDLW9wkzrSkPT",
      "include_colab_link": true
    },
    "kernelspec": {
      "name": "python3",
      "display_name": "Python 3"
    },
    "language_info": {
      "name": "python"
    }
  },
  "cells": [
    {
      "cell_type": "markdown",
      "metadata": {
        "id": "view-in-github",
        "colab_type": "text"
      },
      "source": [
        "<a href=\"https://colab.research.google.com/github/LuisMiguelSG/Markdown/blob/main/Untitled1.ipynb\" target=\"_parent\"><img src=\"https://colab.research.google.com/assets/colab-badge.svg\" alt=\"Open In Colab\"/></a>"
      ]
    },
    {
      "cell_type": "code",
      "execution_count": null,
      "metadata": {
        "id": "pNL4gRMFu4xx"
      },
      "outputs": [],
      "source": [
        "#Variables\n",
        "string_variable=\"This is a string\"\n",
        "print(string_variable)\n",
        "int_variable=7\n",
        "print(int_variable)\n",
        "bool_variable=False\n",
        "print(bool_variable)\n",
        "float_variable = 2.5\n",
        "print(float_variable)\n",
        "\n",
        "\n",
        "#Variables on a single line\n",
        "name, surname, alias = \"Pepito\", \"Perez\", \"Pepo\"\n",
        "print(name, surname, \"/\",alias)\n",
        "\n",
        "#Add variables to print\n",
        "print(string_variable,int_variable,bool_variable)\n",
        "print(type(int_variable))\n",
        "\n",
        "#Method GOD for text + variable\n",
        "print(f\"Hola, {string_variable}\")\n",
        "\n",
        "#Conver type int to str\n",
        "int_to_str=str(int_variable)\n",
        "print(int_to_str)\n",
        "print(type(int_to_str))\n",
        "\n",
        "#System functions\n",
        "print(len(string_variable))     #sentence counter\n",
        "\n",
        "#Inputs\n",
        "#Son las entradas de usuario por consola. El codigo no continua hasta la respuesta del input\n",
        "name = input(\"¿What is your name? \")\n",
        "print(\"Hola,\",name)\n"
      ]
    }
  ]
}